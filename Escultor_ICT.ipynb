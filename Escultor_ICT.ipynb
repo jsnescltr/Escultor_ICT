{
 "cells": [
  {
   "cell_type": "code",
   "execution_count": 39,
   "id": "4a4d58ba-7763-4301-9adb-3e02e8aeffc4",
   "metadata": {},
   "outputs": [
    {
     "name": "stdout",
     "output_type": "stream",
     "text": [
      "MATRIX 1:\n",
      " [[10 18  5]\n",
      " [ 1  1 19]]\n",
      "\n",
      "MATRIX 2:\n",
      " [[2 0 2]\n",
      " [4 8 2]]\n",
      "\n",
      "MATRIX 3:\n",
      " [[12 18  7]\n",
      " [ 5  9 21]]\n",
      "\n",
      "MATRIX 4:\n",
      " [[20 36 10]\n",
      " [ 2  2 38]]\n",
      "\n",
      "MATRIX 5:\n",
      " [[2 4]\n",
      " [0 8]\n",
      " [2 2]]\n",
      "\n",
      "MATRIX 6:\n",
      " [[ 38 206]\n",
      " [ 52 134]]\n",
      "\n",
      "sum of all elements in matrix3:\n",
      " 72\n",
      "\n",
      "MATRIX 7:\n",
      " [[0. 0. 0.]\n",
      " [0. 0. 0.]]\n"
     ]
    }
   ],
   "source": [
    " import numpy as np\n",
    "\n",
    "#letters JRE [10,18,5]\n",
    "#letters AAS [1,1,19]\n",
    "\n",
    "#matrix1\n",
    "matrix1 = np.array([[10,18,5],[1,1,19]] )\n",
    "print(\"MATRIX 1:\\n\", matrix1)\n",
    "\n",
    "#first 3 SN digits [2,0,2]\n",
    "#last 3 SN digits [4,8,2]\n",
    "\n",
    "#matrix2\n",
    "matrix2 = np.array([[2,0,2],[4,8,2]])\n",
    "print(\"\\nMATRIX 2:\\n\", matrix2)\n",
    "\n",
    "#matrix addition\n",
    "matrix3 = np.add(matrix1,matrix2)\n",
    "print(\"\\nMATRIX 3:\\n\", matrix3)\n",
    "\n",
    "#scalar multiplication\n",
    "matrix4 = np.multiply(matrix1,2)\n",
    "print(\"\\nMATRIX 4:\\n\", matrix4)\n",
    "\n",
    "#matrix transpose\n",
    "matrix5 = matrix2.T\n",
    "print(\"\\nMATRIX 5:\\n\", matrix5)\n",
    "\n",
    "#matrix multiplication\n",
    "matrix6 = np.dot(matrix3,matrix5)\n",
    "print(\"\\nMATRIX 6:\\n\", matrix6)\n",
    "\n",
    "#sum of all elements in matrix3\n",
    "sum_matrix3 = np.sum(matrix3)\n",
    "print(\"\\nsum of all elements in matrix3:\\n\", sum_matrix3)\n",
    "\n",
    "#zero matrix\n",
    "matrix7 = np.zeros((2,3))\n",
    "print(\"\\nMATRIX 7:\\n\", matrix7)\n"
   ]
  },
  {
   "cell_type": "code",
   "execution_count": null,
   "id": "aff7a7e0-f019-48b7-ba89-83709b71fa9c",
   "metadata": {},
   "outputs": [],
   "source": []
  }
 ],
 "metadata": {
  "kernelspec": {
   "display_name": "Python [conda env:base] *",
   "language": "python",
   "name": "conda-base-py"
  },
  "language_info": {
   "codemirror_mode": {
    "name": "ipython",
    "version": 3
   },
   "file_extension": ".py",
   "mimetype": "text/x-python",
   "name": "python",
   "nbconvert_exporter": "python",
   "pygments_lexer": "ipython3",
   "version": "3.12.7"
  }
 },
 "nbformat": 4,
 "nbformat_minor": 5
}
